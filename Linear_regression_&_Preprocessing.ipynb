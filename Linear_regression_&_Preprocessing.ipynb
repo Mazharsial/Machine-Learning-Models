{
 "cells": [
  {
   "cell_type": "code",
   "execution_count": 2,
   "id": "11b0d420-71dc-4593-8b5f-73a3fd02cc19",
   "metadata": {},
   "outputs": [],
   "source": [
    "import pandas as pd\n",
    "import numpy as np\n",
    "import matplotlib.pyplot as plt\n",
    "import seaborn as sns\n",
    "from sklearn.preprocessing import LabelEncoder\n",
    "from sklearn.model_selection import train_test_split\n",
    "from sklearn.linear_model import LinearRegression"
   ]
  },
  {
   "cell_type": "code",
   "execution_count": 3,
   "id": "a730bac5-919e-439c-8dbe-9641cd943810",
   "metadata": {},
   "outputs": [
    {
     "name": "stdout",
     "output_type": "stream",
     "text": [
      "Requirement already satisfied: scikit-learn in c:\\users\\aims tech\\appdata\\local\\programs\\python\\python310\\lib\\site-packages (1.7.1)\n",
      "Requirement already satisfied: numpy>=1.22.0 in c:\\users\\aims tech\\appdata\\local\\programs\\python\\python310\\lib\\site-packages (from scikit-learn) (2.2.6)\n",
      "Requirement already satisfied: scipy>=1.8.0 in c:\\users\\aims tech\\appdata\\local\\programs\\python\\python310\\lib\\site-packages (from scikit-learn) (1.15.3)\n",
      "Requirement already satisfied: joblib>=1.2.0 in c:\\users\\aims tech\\appdata\\local\\programs\\python\\python310\\lib\\site-packages (from scikit-learn) (1.5.2)\n",
      "Requirement already satisfied: threadpoolctl>=3.1.0 in c:\\users\\aims tech\\appdata\\local\\programs\\python\\python310\\lib\\site-packages (from scikit-learn) (3.6.0)\n"
     ]
    }
   ],
   "source": [
    "!pip install scikit-learn"
   ]
  },
  {
   "cell_type": "code",
   "execution_count": 4,
   "id": "8d645153-62ca-41c3-a004-02ed6e8c88d4",
   "metadata": {},
   "outputs": [
    {
     "data": {
      "text/html": [
       "<div>\n",
       "<style scoped>\n",
       "    .dataframe tbody tr th:only-of-type {\n",
       "        vertical-align: middle;\n",
       "    }\n",
       "\n",
       "    .dataframe tbody tr th {\n",
       "        vertical-align: top;\n",
       "    }\n",
       "\n",
       "    .dataframe thead th {\n",
       "        text-align: right;\n",
       "    }\n",
       "</style>\n",
       "<table border=\"1\" class=\"dataframe\">\n",
       "  <thead>\n",
       "    <tr style=\"text-align: right;\">\n",
       "      <th></th>\n",
       "      <th>EmployeeID</th>\n",
       "      <th>Name</th>\n",
       "      <th>Age</th>\n",
       "      <th>Department</th>\n",
       "      <th>Salary</th>\n",
       "      <th>Experience</th>\n",
       "      <th>JoiningYear</th>\n",
       "      <th>Attrition</th>\n",
       "    </tr>\n",
       "  </thead>\n",
       "  <tbody>\n",
       "    <tr>\n",
       "      <th>0</th>\n",
       "      <td>1</td>\n",
       "      <td>Employee_1</td>\n",
       "      <td>50.0</td>\n",
       "      <td>IT</td>\n",
       "      <td>98385.0</td>\n",
       "      <td>16.0</td>\n",
       "      <td>2011.0</td>\n",
       "      <td>Yes</td>\n",
       "    </tr>\n",
       "    <tr>\n",
       "      <th>1</th>\n",
       "      <td>2</td>\n",
       "      <td>Employee_2</td>\n",
       "      <td>36.0</td>\n",
       "      <td>HR</td>\n",
       "      <td>70158.0</td>\n",
       "      <td>11.0</td>\n",
       "      <td>2018.0</td>\n",
       "      <td>No</td>\n",
       "    </tr>\n",
       "    <tr>\n",
       "      <th>2</th>\n",
       "      <td>3</td>\n",
       "      <td>Employee_3</td>\n",
       "      <td>29.0</td>\n",
       "      <td>Finance</td>\n",
       "      <td>95417.0</td>\n",
       "      <td>12.0</td>\n",
       "      <td>2009.0</td>\n",
       "      <td>No</td>\n",
       "    </tr>\n",
       "    <tr>\n",
       "      <th>3</th>\n",
       "      <td>4</td>\n",
       "      <td>Employee_4</td>\n",
       "      <td>42.0</td>\n",
       "      <td>Marketing</td>\n",
       "      <td>53289.0</td>\n",
       "      <td>NaN</td>\n",
       "      <td>2008.0</td>\n",
       "      <td>Yes</td>\n",
       "    </tr>\n",
       "    <tr>\n",
       "      <th>4</th>\n",
       "      <td>5</td>\n",
       "      <td>Employee_5</td>\n",
       "      <td>40.0</td>\n",
       "      <td>HR</td>\n",
       "      <td>39823.0</td>\n",
       "      <td>16.0</td>\n",
       "      <td>2004.0</td>\n",
       "      <td>No</td>\n",
       "    </tr>\n",
       "    <tr>\n",
       "      <th>...</th>\n",
       "      <td>...</td>\n",
       "      <td>...</td>\n",
       "      <td>...</td>\n",
       "      <td>...</td>\n",
       "      <td>...</td>\n",
       "      <td>...</td>\n",
       "      <td>...</td>\n",
       "      <td>...</td>\n",
       "    </tr>\n",
       "    <tr>\n",
       "      <th>195</th>\n",
       "      <td>196</td>\n",
       "      <td>Employee_196</td>\n",
       "      <td>40.0</td>\n",
       "      <td>Sales</td>\n",
       "      <td>82528.0</td>\n",
       "      <td>2.0</td>\n",
       "      <td>2005.0</td>\n",
       "      <td>Yes</td>\n",
       "    </tr>\n",
       "    <tr>\n",
       "      <th>196</th>\n",
       "      <td>197</td>\n",
       "      <td>Employee_197</td>\n",
       "      <td>41.0</td>\n",
       "      <td>IT</td>\n",
       "      <td>68413.0</td>\n",
       "      <td>15.0</td>\n",
       "      <td>2007.0</td>\n",
       "      <td>No</td>\n",
       "    </tr>\n",
       "    <tr>\n",
       "      <th>197</th>\n",
       "      <td>198</td>\n",
       "      <td>Employee_198</td>\n",
       "      <td>53.0</td>\n",
       "      <td>IT</td>\n",
       "      <td>82638.0</td>\n",
       "      <td>8.0</td>\n",
       "      <td>2022.0</td>\n",
       "      <td>No</td>\n",
       "    </tr>\n",
       "    <tr>\n",
       "      <th>198</th>\n",
       "      <td>199</td>\n",
       "      <td>Employee_199</td>\n",
       "      <td>28.0</td>\n",
       "      <td>Sales</td>\n",
       "      <td>82736.0</td>\n",
       "      <td>8.0</td>\n",
       "      <td>NaN</td>\n",
       "      <td>Yes</td>\n",
       "    </tr>\n",
       "    <tr>\n",
       "      <th>199</th>\n",
       "      <td>200</td>\n",
       "      <td>Employee_200</td>\n",
       "      <td>54.0</td>\n",
       "      <td>NaN</td>\n",
       "      <td>98866.0</td>\n",
       "      <td>17.0</td>\n",
       "      <td>2013.0</td>\n",
       "      <td>No</td>\n",
       "    </tr>\n",
       "  </tbody>\n",
       "</table>\n",
       "<p>200 rows × 8 columns</p>\n",
       "</div>"
      ],
      "text/plain": [
       "     EmployeeID          Name   Age Department   Salary  Experience  \\\n",
       "0             1    Employee_1  50.0         IT  98385.0        16.0   \n",
       "1             2    Employee_2  36.0         HR  70158.0        11.0   \n",
       "2             3    Employee_3  29.0    Finance  95417.0        12.0   \n",
       "3             4    Employee_4  42.0  Marketing  53289.0         NaN   \n",
       "4             5    Employee_5  40.0         HR  39823.0        16.0   \n",
       "..          ...           ...   ...        ...      ...         ...   \n",
       "195         196  Employee_196  40.0      Sales  82528.0         2.0   \n",
       "196         197  Employee_197  41.0         IT  68413.0        15.0   \n",
       "197         198  Employee_198  53.0         IT  82638.0         8.0   \n",
       "198         199  Employee_199  28.0      Sales  82736.0         8.0   \n",
       "199         200  Employee_200  54.0        NaN  98866.0        17.0   \n",
       "\n",
       "     JoiningYear Attrition  \n",
       "0         2011.0       Yes  \n",
       "1         2018.0        No  \n",
       "2         2009.0        No  \n",
       "3         2008.0       Yes  \n",
       "4         2004.0        No  \n",
       "..           ...       ...  \n",
       "195       2005.0       Yes  \n",
       "196       2007.0        No  \n",
       "197       2022.0        No  \n",
       "198          NaN       Yes  \n",
       "199       2013.0        No  \n",
       "\n",
       "[200 rows x 8 columns]"
      ]
     },
     "execution_count": 4,
     "metadata": {},
     "output_type": "execute_result"
    }
   ],
   "source": [
    "df=pd.read_csv(r\"D:\\documents\\Data Analysis With Python\\datasets\\employee_dataset_200_with_missing.csv\")\n",
    "df"
   ]
  },
  {
   "cell_type": "code",
   "execution_count": 5,
   "id": "0e5b97ae-8615-4c4c-b763-537385372e86",
   "metadata": {},
   "outputs": [
    {
     "data": {
      "text/plain": [
       "(200, 8)"
      ]
     },
     "execution_count": 5,
     "metadata": {},
     "output_type": "execute_result"
    }
   ],
   "source": [
    "df.shape\n"
   ]
  },
  {
   "cell_type": "code",
   "execution_count": 6,
   "id": "046a286d-4af3-425b-a93a-8d2c9ef3394f",
   "metadata": {},
   "outputs": [
    {
     "data": {
      "text/plain": [
       "EmployeeID      0\n",
       "Name            0\n",
       "Age            30\n",
       "Department     30\n",
       "Salary         30\n",
       "Experience     30\n",
       "JoiningYear    30\n",
       "Attrition       0\n",
       "dtype: int64"
      ]
     },
     "execution_count": 6,
     "metadata": {},
     "output_type": "execute_result"
    }
   ],
   "source": [
    "df.isnull().sum()"
   ]
  },
  {
   "cell_type": "code",
   "execution_count": 7,
   "id": "7287fb78-485a-4917-9812-054ed9136ffc",
   "metadata": {},
   "outputs": [
    {
     "data": {
      "text/plain": [
       "EmployeeID       int64\n",
       "Name            object\n",
       "Age            float64\n",
       "Department      object\n",
       "Salary         float64\n",
       "Experience     float64\n",
       "JoiningYear    float64\n",
       "Attrition       object\n",
       "dtype: object"
      ]
     },
     "execution_count": 7,
     "metadata": {},
     "output_type": "execute_result"
    }
   ],
   "source": [
    "df.dtypes"
   ]
  },
  {
   "cell_type": "code",
   "execution_count": 8,
   "id": "df182a9a-587c-4a59-b8c2-0b647ea4cd5c",
   "metadata": {},
   "outputs": [],
   "source": [
    "# These are numerical columns so we replace missing values with median(middle value in sorted column)\n",
    "df[\"Age\"]=df[\"Age\"].fillna(df[\"Age\"].median())\n",
    "df[\"Salary\"]=df[\"Salary\"].fillna(df[\"Salary\"].median())\n",
    "df[\"Experience\"]=df[\"Experience\"].fillna(df[\"Experience\"].median())"
   ]
  },
  {
   "cell_type": "code",
   "execution_count": 9,
   "id": "4ab0dc67-eff7-4de8-984b-6cb33c2d2dba",
   "metadata": {},
   "outputs": [
    {
     "data": {
      "text/plain": [
       "EmployeeID      0\n",
       "Name            0\n",
       "Age             0\n",
       "Department     30\n",
       "Salary          0\n",
       "Experience      0\n",
       "JoiningYear    30\n",
       "Attrition       0\n",
       "dtype: int64"
      ]
     },
     "execution_count": 9,
     "metadata": {},
     "output_type": "execute_result"
    }
   ],
   "source": [
    "df.isnull().sum()"
   ]
  },
  {
   "cell_type": "code",
   "execution_count": 10,
   "id": "04098379-6ba8-4c2f-8353-56c0a6926e88",
   "metadata": {},
   "outputs": [],
   "source": [
    "df[\"Department\"]=df[\"Department\"].fillna(df[\"Department\"].mode()[0])\n"
   ]
  },
  {
   "cell_type": "code",
   "execution_count": 11,
   "id": "939ed5e9-1d54-4f16-9822-f3cfeb13b893",
   "metadata": {},
   "outputs": [],
   "source": [
    "df[\"JoiningYear\"]=df[\"JoiningYear\"].fillna(df[\"JoiningYear\"].min())"
   ]
  },
  {
   "cell_type": "code",
   "execution_count": 12,
   "id": "ebcf4fc5-b7a6-4182-8f92-c5351e4af967",
   "metadata": {},
   "outputs": [
    {
     "data": {
      "text/plain": [
       "EmployeeID     0\n",
       "Name           0\n",
       "Age            0\n",
       "Department     0\n",
       "Salary         0\n",
       "Experience     0\n",
       "JoiningYear    0\n",
       "Attrition      0\n",
       "dtype: int64"
      ]
     },
     "execution_count": 12,
     "metadata": {},
     "output_type": "execute_result"
    }
   ],
   "source": [
    "df.isnull().sum()"
   ]
  },
  {
   "cell_type": "code",
   "execution_count": 13,
   "id": "8e08d0bf-4b09-47ac-a3cc-feec86eeaf3c",
   "metadata": {},
   "outputs": [],
   "source": [
    "df[\"Age\"] = df[\"Age\"].astype(int)\n",
    "\n",
    "df[\"Salary\"] = df[\"Salary\"].astype(int)\n",
    "\n",
    "df[\"Experience\"] = df[\"Experience\"].astype(int)\n",
    "\n",
    "# Change 'Salary' from float to integer\n",
    "df[\"JoiningYear\"] = df[\"JoiningYear\"].astype(int)"
   ]
  },
  {
   "cell_type": "code",
   "execution_count": 14,
   "id": "ce61f9d3-d849-426d-a52d-77a948aea021",
   "metadata": {},
   "outputs": [
    {
     "data": {
      "text/plain": [
       "EmployeeID      int64\n",
       "Name           object\n",
       "Age             int64\n",
       "Department     object\n",
       "Salary          int64\n",
       "Experience      int64\n",
       "JoiningYear     int64\n",
       "Attrition      object\n",
       "dtype: object"
      ]
     },
     "execution_count": 14,
     "metadata": {},
     "output_type": "execute_result"
    }
   ],
   "source": [
    "df.dtypes"
   ]
  },
  {
   "cell_type": "markdown",
   "id": "c32bee5a-cc12-4634-903f-0019171e5acc",
   "metadata": {},
   "source": [
    "# 1. Label Encoding"
   ]
  },
  {
   "cell_type": "code",
   "execution_count": 15,
   "id": "7b1a22d4-8282-49f2-8931-fadd603513a5",
   "metadata": {},
   "outputs": [],
   "source": [
    "# What it does: Converts categories into numeric values (like 0, 1, 2, …).\n",
    "# Each unique category is assigned an integer.\n",
    "\n",
    "encoder = LabelEncoder()\n",
    "df[\"Attrition\"] = encoder.fit_transform(df[\"Attrition\"])\n",
    "\n",
    "#  0=No, 1=Yes"
   ]
  },
  {
   "cell_type": "code",
   "execution_count": 16,
   "id": "c098bec2-2ee4-4171-87fa-fb3e1b63c53c",
   "metadata": {},
   "outputs": [
    {
     "data": {
      "text/html": [
       "<div>\n",
       "<style scoped>\n",
       "    .dataframe tbody tr th:only-of-type {\n",
       "        vertical-align: middle;\n",
       "    }\n",
       "\n",
       "    .dataframe tbody tr th {\n",
       "        vertical-align: top;\n",
       "    }\n",
       "\n",
       "    .dataframe thead th {\n",
       "        text-align: right;\n",
       "    }\n",
       "</style>\n",
       "<table border=\"1\" class=\"dataframe\">\n",
       "  <thead>\n",
       "    <tr style=\"text-align: right;\">\n",
       "      <th></th>\n",
       "      <th>EmployeeID</th>\n",
       "      <th>Name</th>\n",
       "      <th>Age</th>\n",
       "      <th>Department</th>\n",
       "      <th>Salary</th>\n",
       "      <th>Experience</th>\n",
       "      <th>JoiningYear</th>\n",
       "      <th>Attrition</th>\n",
       "    </tr>\n",
       "  </thead>\n",
       "  <tbody>\n",
       "    <tr>\n",
       "      <th>0</th>\n",
       "      <td>1</td>\n",
       "      <td>Employee_1</td>\n",
       "      <td>50</td>\n",
       "      <td>IT</td>\n",
       "      <td>98385</td>\n",
       "      <td>16</td>\n",
       "      <td>2011</td>\n",
       "      <td>1</td>\n",
       "    </tr>\n",
       "    <tr>\n",
       "      <th>1</th>\n",
       "      <td>2</td>\n",
       "      <td>Employee_2</td>\n",
       "      <td>36</td>\n",
       "      <td>HR</td>\n",
       "      <td>70158</td>\n",
       "      <td>11</td>\n",
       "      <td>2018</td>\n",
       "      <td>0</td>\n",
       "    </tr>\n",
       "    <tr>\n",
       "      <th>2</th>\n",
       "      <td>3</td>\n",
       "      <td>Employee_3</td>\n",
       "      <td>29</td>\n",
       "      <td>Finance</td>\n",
       "      <td>95417</td>\n",
       "      <td>12</td>\n",
       "      <td>2009</td>\n",
       "      <td>0</td>\n",
       "    </tr>\n",
       "    <tr>\n",
       "      <th>3</th>\n",
       "      <td>4</td>\n",
       "      <td>Employee_4</td>\n",
       "      <td>42</td>\n",
       "      <td>Marketing</td>\n",
       "      <td>53289</td>\n",
       "      <td>11</td>\n",
       "      <td>2008</td>\n",
       "      <td>1</td>\n",
       "    </tr>\n",
       "    <tr>\n",
       "      <th>4</th>\n",
       "      <td>5</td>\n",
       "      <td>Employee_5</td>\n",
       "      <td>40</td>\n",
       "      <td>HR</td>\n",
       "      <td>39823</td>\n",
       "      <td>16</td>\n",
       "      <td>2004</td>\n",
       "      <td>0</td>\n",
       "    </tr>\n",
       "    <tr>\n",
       "      <th>5</th>\n",
       "      <td>6</td>\n",
       "      <td>Employee_6</td>\n",
       "      <td>44</td>\n",
       "      <td>HR</td>\n",
       "      <td>90160</td>\n",
       "      <td>8</td>\n",
       "      <td>2005</td>\n",
       "      <td>0</td>\n",
       "    </tr>\n",
       "    <tr>\n",
       "      <th>6</th>\n",
       "      <td>7</td>\n",
       "      <td>Employee_7</td>\n",
       "      <td>32</td>\n",
       "      <td>IT</td>\n",
       "      <td>71975</td>\n",
       "      <td>6</td>\n",
       "      <td>2019</td>\n",
       "      <td>0</td>\n",
       "    </tr>\n",
       "    <tr>\n",
       "      <th>7</th>\n",
       "      <td>8</td>\n",
       "      <td>Employee_8</td>\n",
       "      <td>41</td>\n",
       "      <td>IT</td>\n",
       "      <td>39540</td>\n",
       "      <td>12</td>\n",
       "      <td>2001</td>\n",
       "      <td>1</td>\n",
       "    </tr>\n",
       "    <tr>\n",
       "      <th>8</th>\n",
       "      <td>9</td>\n",
       "      <td>Employee_9</td>\n",
       "      <td>41</td>\n",
       "      <td>HR</td>\n",
       "      <td>73102</td>\n",
       "      <td>8</td>\n",
       "      <td>2012</td>\n",
       "      <td>1</td>\n",
       "    </tr>\n",
       "    <tr>\n",
       "      <th>9</th>\n",
       "      <td>10</td>\n",
       "      <td>Employee_10</td>\n",
       "      <td>57</td>\n",
       "      <td>Marketing</td>\n",
       "      <td>34611</td>\n",
       "      <td>4</td>\n",
       "      <td>2000</td>\n",
       "      <td>1</td>\n",
       "    </tr>\n",
       "  </tbody>\n",
       "</table>\n",
       "</div>"
      ],
      "text/plain": [
       "   EmployeeID         Name  Age Department  Salary  Experience  JoiningYear  \\\n",
       "0           1   Employee_1   50         IT   98385          16         2011   \n",
       "1           2   Employee_2   36         HR   70158          11         2018   \n",
       "2           3   Employee_3   29    Finance   95417          12         2009   \n",
       "3           4   Employee_4   42  Marketing   53289          11         2008   \n",
       "4           5   Employee_5   40         HR   39823          16         2004   \n",
       "5           6   Employee_6   44         HR   90160           8         2005   \n",
       "6           7   Employee_7   32         IT   71975           6         2019   \n",
       "7           8   Employee_8   41         IT   39540          12         2001   \n",
       "8           9   Employee_9   41         HR   73102           8         2012   \n",
       "9          10  Employee_10   57  Marketing   34611           4         2000   \n",
       "\n",
       "   Attrition  \n",
       "0          1  \n",
       "1          0  \n",
       "2          0  \n",
       "3          1  \n",
       "4          0  \n",
       "5          0  \n",
       "6          0  \n",
       "7          1  \n",
       "8          1  \n",
       "9          1  "
      ]
     },
     "execution_count": 16,
     "metadata": {},
     "output_type": "execute_result"
    }
   ],
   "source": [
    "df.head(10)"
   ]
  },
  {
   "cell_type": "markdown",
   "id": "92d4305d-04a6-454a-a780-abd368dff92c",
   "metadata": {},
   "source": [
    "# 2. One-Hot Encoding"
   ]
  },
  {
   "cell_type": "code",
   "execution_count": null,
   "id": "69c205fe-ea2e-441a-a779-46f6143f8d3a",
   "metadata": {},
   "outputs": [],
   "source": [
    "# What it does: Creates a new column for each category and assigns 1 or 0 (True/False).\n",
    "# No ordering problem.\n",
    "\n",
    "df = pd.get_dummies(df, columns=[\"Attrition\"])\n",
    "print(df)"
   ]
  },
  {
   "cell_type": "code",
   "execution_count": 18,
   "id": "d8142d1c-65ee-48e9-8b4a-0928a387ecf6",
   "metadata": {},
   "outputs": [
    {
     "data": {
      "text/html": [
       "<div>\n",
       "<style scoped>\n",
       "    .dataframe tbody tr th:only-of-type {\n",
       "        vertical-align: middle;\n",
       "    }\n",
       "\n",
       "    .dataframe tbody tr th {\n",
       "        vertical-align: top;\n",
       "    }\n",
       "\n",
       "    .dataframe thead th {\n",
       "        text-align: right;\n",
       "    }\n",
       "</style>\n",
       "<table border=\"1\" class=\"dataframe\">\n",
       "  <thead>\n",
       "    <tr style=\"text-align: right;\">\n",
       "      <th></th>\n",
       "      <th>EmployeeID</th>\n",
       "      <th>Name</th>\n",
       "      <th>Age</th>\n",
       "      <th>Department</th>\n",
       "      <th>Salary</th>\n",
       "      <th>Experience</th>\n",
       "      <th>JoiningYear</th>\n",
       "      <th>Attrition_0</th>\n",
       "      <th>Attrition_1</th>\n",
       "    </tr>\n",
       "  </thead>\n",
       "  <tbody>\n",
       "    <tr>\n",
       "      <th>0</th>\n",
       "      <td>1</td>\n",
       "      <td>Employee_1</td>\n",
       "      <td>50</td>\n",
       "      <td>IT</td>\n",
       "      <td>98385</td>\n",
       "      <td>16</td>\n",
       "      <td>2011</td>\n",
       "      <td>False</td>\n",
       "      <td>True</td>\n",
       "    </tr>\n",
       "    <tr>\n",
       "      <th>1</th>\n",
       "      <td>2</td>\n",
       "      <td>Employee_2</td>\n",
       "      <td>36</td>\n",
       "      <td>HR</td>\n",
       "      <td>70158</td>\n",
       "      <td>11</td>\n",
       "      <td>2018</td>\n",
       "      <td>True</td>\n",
       "      <td>False</td>\n",
       "    </tr>\n",
       "    <tr>\n",
       "      <th>2</th>\n",
       "      <td>3</td>\n",
       "      <td>Employee_3</td>\n",
       "      <td>29</td>\n",
       "      <td>Finance</td>\n",
       "      <td>95417</td>\n",
       "      <td>12</td>\n",
       "      <td>2009</td>\n",
       "      <td>True</td>\n",
       "      <td>False</td>\n",
       "    </tr>\n",
       "    <tr>\n",
       "      <th>3</th>\n",
       "      <td>4</td>\n",
       "      <td>Employee_4</td>\n",
       "      <td>42</td>\n",
       "      <td>Marketing</td>\n",
       "      <td>53289</td>\n",
       "      <td>11</td>\n",
       "      <td>2008</td>\n",
       "      <td>False</td>\n",
       "      <td>True</td>\n",
       "    </tr>\n",
       "    <tr>\n",
       "      <th>4</th>\n",
       "      <td>5</td>\n",
       "      <td>Employee_5</td>\n",
       "      <td>40</td>\n",
       "      <td>HR</td>\n",
       "      <td>39823</td>\n",
       "      <td>16</td>\n",
       "      <td>2004</td>\n",
       "      <td>True</td>\n",
       "      <td>False</td>\n",
       "    </tr>\n",
       "    <tr>\n",
       "      <th>...</th>\n",
       "      <td>...</td>\n",
       "      <td>...</td>\n",
       "      <td>...</td>\n",
       "      <td>...</td>\n",
       "      <td>...</td>\n",
       "      <td>...</td>\n",
       "      <td>...</td>\n",
       "      <td>...</td>\n",
       "      <td>...</td>\n",
       "    </tr>\n",
       "    <tr>\n",
       "      <th>195</th>\n",
       "      <td>196</td>\n",
       "      <td>Employee_196</td>\n",
       "      <td>40</td>\n",
       "      <td>Sales</td>\n",
       "      <td>82528</td>\n",
       "      <td>2</td>\n",
       "      <td>2005</td>\n",
       "      <td>False</td>\n",
       "      <td>True</td>\n",
       "    </tr>\n",
       "    <tr>\n",
       "      <th>196</th>\n",
       "      <td>197</td>\n",
       "      <td>Employee_197</td>\n",
       "      <td>41</td>\n",
       "      <td>IT</td>\n",
       "      <td>68413</td>\n",
       "      <td>15</td>\n",
       "      <td>2007</td>\n",
       "      <td>True</td>\n",
       "      <td>False</td>\n",
       "    </tr>\n",
       "    <tr>\n",
       "      <th>197</th>\n",
       "      <td>198</td>\n",
       "      <td>Employee_198</td>\n",
       "      <td>53</td>\n",
       "      <td>IT</td>\n",
       "      <td>82638</td>\n",
       "      <td>8</td>\n",
       "      <td>2022</td>\n",
       "      <td>True</td>\n",
       "      <td>False</td>\n",
       "    </tr>\n",
       "    <tr>\n",
       "      <th>198</th>\n",
       "      <td>199</td>\n",
       "      <td>Employee_199</td>\n",
       "      <td>28</td>\n",
       "      <td>Sales</td>\n",
       "      <td>82736</td>\n",
       "      <td>8</td>\n",
       "      <td>2000</td>\n",
       "      <td>False</td>\n",
       "      <td>True</td>\n",
       "    </tr>\n",
       "    <tr>\n",
       "      <th>199</th>\n",
       "      <td>200</td>\n",
       "      <td>Employee_200</td>\n",
       "      <td>54</td>\n",
       "      <td>HR</td>\n",
       "      <td>98866</td>\n",
       "      <td>17</td>\n",
       "      <td>2013</td>\n",
       "      <td>True</td>\n",
       "      <td>False</td>\n",
       "    </tr>\n",
       "  </tbody>\n",
       "</table>\n",
       "<p>200 rows × 9 columns</p>\n",
       "</div>"
      ],
      "text/plain": [
       "     EmployeeID          Name  Age Department  Salary  Experience  \\\n",
       "0             1    Employee_1   50         IT   98385          16   \n",
       "1             2    Employee_2   36         HR   70158          11   \n",
       "2             3    Employee_3   29    Finance   95417          12   \n",
       "3             4    Employee_4   42  Marketing   53289          11   \n",
       "4             5    Employee_5   40         HR   39823          16   \n",
       "..          ...           ...  ...        ...     ...         ...   \n",
       "195         196  Employee_196   40      Sales   82528           2   \n",
       "196         197  Employee_197   41         IT   68413          15   \n",
       "197         198  Employee_198   53         IT   82638           8   \n",
       "198         199  Employee_199   28      Sales   82736           8   \n",
       "199         200  Employee_200   54         HR   98866          17   \n",
       "\n",
       "     JoiningYear  Attrition_0  Attrition_1  \n",
       "0           2011        False         True  \n",
       "1           2018         True        False  \n",
       "2           2009         True        False  \n",
       "3           2008        False         True  \n",
       "4           2004         True        False  \n",
       "..           ...          ...          ...  \n",
       "195         2005        False         True  \n",
       "196         2007         True        False  \n",
       "197         2022         True        False  \n",
       "198         2000        False         True  \n",
       "199         2013         True        False  \n",
       "\n",
       "[200 rows x 9 columns]"
      ]
     },
     "execution_count": 18,
     "metadata": {},
     "output_type": "execute_result"
    }
   ],
   "source": [
    "df"
   ]
  },
  {
   "cell_type": "code",
   "execution_count": 26,
   "id": "76a5aafa-9d34-4b57-8b9e-08455fd6766e",
   "metadata": {},
   "outputs": [
    {
     "data": {
      "text/plain": [
       "['Age', 'Salary', 'Experience', 'JoiningYear']"
      ]
     },
     "execution_count": 26,
     "metadata": {},
     "output_type": "execute_result"
    }
   ],
   "source": [
    "numeric_cols=df.select_dtypes(include=[\"int64\",\"float64\"]).columns.tolist()\n",
    "numeric_cols.remove('EmployeeID')\n",
    "numeric_cols"
   ]
  },
  {
   "cell_type": "code",
   "execution_count": 27,
   "id": "b3987849-9e9c-43bf-9856-cb42a537c16e",
   "metadata": {},
   "outputs": [],
   "source": [
    "X=df[[\"Age\"]]\n",
    "Y=df[\"Salary\"]"
   ]
  },
  {
   "cell_type": "code",
   "execution_count": 28,
   "id": "f5b72e1d-40fa-4b8b-814d-a7dadcde1a23",
   "metadata": {},
   "outputs": [],
   "source": [
    "X_train, X_test, Y_train, Y_test = train_test_split(X, Y, test_size=0.3, random_state=42)"
   ]
  },
  {
   "cell_type": "code",
   "execution_count": 30,
   "id": "4c10e855-687b-4d9a-9441-b471805c60b5",
   "metadata": {},
   "outputs": [],
   "source": [
    "model=LinearRegression()\n",
    "model.fit(X_train,Y_train)\n",
    "\n",
    "Y_pred=model.predict(X_test)"
   ]
  },
  {
   "cell_type": "code",
   "execution_count": 33,
   "id": "dbd0e823-24fd-46d6-a31a-220f6fe72d48",
   "metadata": {},
   "outputs": [
    {
     "name": "stdout",
     "output_type": "stream",
     "text": [
      "Model Coefficients: \n",
      "Intercept: 74399.76086524942\n",
      "Slope: -19.638096472853878\n"
     ]
    }
   ],
   "source": [
    "print(f\"Model Coefficients: \")\n",
    "print(f\"Intercept: {model.intercept_}\")\n",
    "print(f\"Slope: {model.coef_[0]}\")"
   ]
  },
  {
   "cell_type": "code",
   "execution_count": 34,
   "id": "8910c640-bfcb-4627-9193-41d6828d9704",
   "metadata": {},
   "outputs": [
    {
     "name": "stdout",
     "output_type": "stream",
     "text": [
      "\n",
      "Predicted Salaries for given Ages:\n",
      "Age: 25, Predicted Salary: 73908.81\n",
      "Age: 30, Predicted Salary: 73810.62\n",
      "Age: 35, Predicted Salary: 73712.43\n",
      "Age: 40, Predicted Salary: 73614.24\n",
      "Age: 45, Predicted Salary: 73516.05\n"
     ]
    }
   ],
   "source": [
    "new_ages=pd.DataFrame({\"Age\":[25,30,35,40,45]})\n",
    "new_salaries=model.predict(new_ages)\n",
    "\n",
    "print(\"\\nPredicted Salaries for given Ages:\")\n",
    "for age,salary in zip(new_ages[\"Age\"],new_salaries):\n",
    "    print(f\"Age: {age}, Predicted Salary: {salary:.2f}\")"
   ]
  },
  {
   "cell_type": "code",
   "execution_count": null,
   "id": "d8119136-0425-4501-85e9-8b2230db0e3f",
   "metadata": {},
   "outputs": [],
   "source": []
  }
 ],
 "metadata": {
  "kernelspec": {
   "display_name": "Python 3.10",
   "language": "python",
   "name": "py310"
  },
  "language_info": {
   "codemirror_mode": {
    "name": "ipython",
    "version": 3
   },
   "file_extension": ".py",
   "mimetype": "text/x-python",
   "name": "python",
   "nbconvert_exporter": "python",
   "pygments_lexer": "ipython3",
   "version": "3.10.0"
  }
 },
 "nbformat": 4,
 "nbformat_minor": 5
}
